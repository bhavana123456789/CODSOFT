{
  "nbformat": 4,
  "nbformat_minor": 0,
  "metadata": {
    "colab": {
      "provenance": [],
      "authorship_tag": "ABX9TyN5fu3UFQ1Z4gtMD7xfdxSQ",
      "include_colab_link": true
    },
    "kernelspec": {
      "name": "python3",
      "display_name": "Python 3"
    },
    "language_info": {
      "name": "python"
    }
  },
  "cells": [
    {
      "cell_type": "markdown",
      "metadata": {
        "id": "view-in-github",
        "colab_type": "text"
      },
      "source": [
        "<a href=\"https://colab.research.google.com/github/bhavana123456789/CODSOFT/blob/main/StudentGradeCalculator.ipynb\" target=\"_parent\"><img src=\"https://colab.research.google.com/assets/colab-badge.svg\" alt=\"Open In Colab\"/></a>"
      ]
    },
    {
      "cell_type": "code",
      "execution_count": 1,
      "metadata": {
        "colab": {
          "base_uri": "https://localhost:8080/",
          "height": 106
        },
        "id": "NFsDI62PgDIu",
        "outputId": "d4314da2-927f-491a-bc1a-ce8c37d64e6e"
      },
      "outputs": [
        {
          "output_type": "error",
          "ename": "SyntaxError",
          "evalue": "invalid syntax (<ipython-input-1-575a0930d285>, line 1)",
          "traceback": [
            "\u001b[0;36m  File \u001b[0;32m\"<ipython-input-1-575a0930d285>\"\u001b[0;36m, line \u001b[0;32m1\u001b[0m\n\u001b[0;31m    import java.util.*;\u001b[0m\n\u001b[0m                     ^\u001b[0m\n\u001b[0;31mSyntaxError\u001b[0m\u001b[0;31m:\u001b[0m invalid syntax\n"
          ]
        }
      ],
      "source": [
        "import java.util.*;\n",
        "public class StudentGradeCalculator {\n",
        "\n",
        "    public static void main(String[] args) {\n",
        "        Scanner sc = new Scanner(System.in);\n",
        "        System.out.println(\"enter total no.of subjects\");\n",
        "\n",
        "\n",
        "        int TotalNumberOfSubjects = sc.nextInt();\n",
        "        int percentage,TotalMarks = 0;\n",
        "\n",
        "\n",
        "\n",
        "\n",
        "        for(int i=0; i<TotalNumberOfSubjects; i++) {\n",
        "            System.out.println(\"Enter marks for Subject\" +\" \"+ (i+1));\n",
        "            TotalMarks = TotalMarks + sc.nextInt();\n",
        "        }\n",
        "\n",
        "        percentage = TotalMarks / TotalNumberOfSubjects;\n",
        "        System.out.println(\"Total : \" + TotalMarks);\n",
        "        System.out.println(\"Percentage : \"+ percentage);\n",
        "        if(percentage >= 81 && percentage <= 100){\n",
        "            System.out.println(\"Grade: O\");\n",
        "        }\n",
        "        if(percentage >= 75 && percentage <= 80){\n",
        "            System.out.println(\"Grade: A\");\n",
        "        }\n",
        "        else if(percentage > 50 && percentage < 75) {\n",
        "            System.out.println(\"Grade: B\");\n",
        "        }\n",
        "        else if(percentage >= 35 && percentage < 50)\n",
        "        {\n",
        "            System.out.println(\"Grade: C\");\n",
        "        }\n",
        "        if(percentage <35) {\n",
        "            System.out.println(\"Grade: Failed\");\n",
        "        }\n",
        "\n",
        "\n",
        "\n",
        "        else {\n",
        "            System.out.println(\" PLEASE ENTER VALID MARKS!!\");\n",
        "        }\n",
        "    }\n",
        "}\n",
        ""
      ]
    }
  ]
}